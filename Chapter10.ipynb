{
 "metadata": {
  "name": "Chapter10"
 },
 "nbformat": 3,
 "worksheets": [
  {
   "cells": [
    {
     "cell_type": "code",
     "collapsed": true,
     "input": [
      "# Exercise 10.1"
     ],
     "language": "python",
     "outputs": [],
     "prompt_number": 1
    },
    {
     "cell_type": "code",
     "collapsed": true,
     "input": [
      "def cumulative_sum(t):",
      "    res = []",
      "    for s in range(len(t)):",
      "        a=sum(t[:s+1])",
      "        res.append(a)",
      "    return res"
     ],
     "language": "python",
     "outputs": [],
     "prompt_number": 71
    },
    {
     "cell_type": "code",
     "collapsed": false,
     "input": [
      "cumulative_sum([1,2,3])"
     ],
     "language": "python",
     "outputs": [
      {
       "output_type": "pyout",
       "prompt_number": 72,
       "text": [
        "[1, 3, 6]"
       ]
      }
     ],
     "prompt_number": 72
    },
    {
     "cell_type": "code",
     "collapsed": false,
     "input": [
      "cumulative_sum([5,1,2,5])"
     ],
     "language": "python",
     "outputs": [
      {
       "output_type": "pyout",
       "prompt_number": 74,
       "text": [
        "[5, 6, 8, 13]"
       ]
      }
     ],
     "prompt_number": 74
    },
    {
     "cell_type": "code",
     "collapsed": true,
     "input": [
      "# Exercise 10.2"
     ],
     "language": "python",
     "outputs": [],
     "prompt_number": 75
    },
    {
     "cell_type": "code",
     "collapsed": false,
     "input": [
      "t=[1,2,3]",
      "len(t)"
     ],
     "language": "python",
     "outputs": [
      {
       "output_type": "pyout",
       "prompt_number": 78,
       "text": [
        "3"
       ]
      }
     ],
     "prompt_number": 78
    },
    {
     "cell_type": "code",
     "collapsed": true,
     "input": [
      "def chop(t):",
      "    s=len(t)-1",
      "    del t[s]",
      "    del t[0]",
      "    print t"
     ],
     "language": "python",
     "outputs": [],
     "prompt_number": 1
    },
    {
     "cell_type": "code",
     "collapsed": false,
     "input": [
      "chop([1,2,3,5,3])"
     ],
     "language": "python",
     "outputs": [
      {
       "output_type": "stream",
       "stream": "stdout",
       "text": [
        "[2, 3, 5]"
       ]
      }
     ],
     "prompt_number": 5
    },
    {
     "cell_type": "code",
     "collapsed": false,
     "input": [
      "chop(['string','flip','tomorrow'])"
     ],
     "language": "python",
     "outputs": [
      {
       "output_type": "stream",
       "stream": "stdout",
       "text": [
        "['flip']"
       ]
      }
     ],
     "prompt_number": 20
    },
    {
     "cell_type": "code",
     "collapsed": false,
     "input": [
      "def middle(t):",
      "    l=len(t)-1",
      "    s=t[1:l]",
      "    print s"
     ],
     "language": "python",
     "outputs": [],
     "prompt_number": 16
    },
    {
     "cell_type": "code",
     "collapsed": false,
     "input": [
      "middle([1,2,3])"
     ],
     "language": "python",
     "outputs": [
      {
       "output_type": "stream",
       "stream": "stdout",
       "text": [
        "[2]"
       ]
      }
     ],
     "prompt_number": 17
    },
    {
     "cell_type": "code",
     "collapsed": false,
     "input": [
      "middle(['string','help','flip'])"
     ],
     "language": "python",
     "outputs": [
      {
       "output_type": "stream",
       "stream": "stdout",
       "text": [
        "['help']"
       ]
      }
     ],
     "prompt_number": 18
    },
    {
     "cell_type": "code",
     "collapsed": false,
     "input": [
      "middle(['string','flip','NYC','tomorrow'])"
     ],
     "language": "python",
     "outputs": [
      {
       "output_type": "stream",
       "stream": "stdout",
       "text": [
        "['flip', 'NYC']"
       ]
      }
     ],
     "prompt_number": 19
    },
    {
     "cell_type": "code",
     "collapsed": false,
     "input": [
      "t=['a','b','c','d']",
      "t[0]<=t[1]"
     ],
     "language": "python",
     "outputs": [
      {
       "output_type": "pyout",
       "prompt_number": 23,
       "text": [
        "True"
       ]
      }
     ],
     "prompt_number": 23
    },
    {
     "cell_type": "code",
     "collapsed": false,
     "input": [
      "def is_sorted(word):",
      "    for s in range(len(word)):",
      "        if word[0]<=word[1]:",
      "            if word[s-1]<=word[s]:",
      "                return 'True'",
      "            else:",
      "                return 'Flase'"
     ],
     "language": "python",
     "outputs": [],
     "prompt_number": 48
    },
    {
     "cell_type": "code",
     "collapsed": false,
     "input": [],
     "language": "python",
     "outputs": [
      {
       "output_type": "pyout",
       "prompt_number": 49,
       "text": [
        "'Flase'"
       ]
      }
     ],
     "prompt_number": 49
    },
    {
     "cell_type": "code",
     "collapsed": false,
     "input": [
      "def is_sorted(word):",
      "    s=0",
      "    while s in range((len(word)-1)):",
      "        if word[s]<=word[s+1]:",
      "            s=s+1",
      "        else:",
      "            return 'False'",
      "    return 'True'"
     ],
     "language": "python",
     "outputs": [],
     "prompt_number": 65
    },
    {
     "cell_type": "code",
     "collapsed": false,
     "input": [
      "is_sorted([1,2,3,4])"
     ],
     "language": "python",
     "outputs": [
      {
       "output_type": "pyout",
       "prompt_number": 67,
       "text": [
        "'True'"
       ]
      }
     ],
     "prompt_number": 67
    },
    {
     "cell_type": "code",
     "collapsed": false,
     "input": [
      "is_sorted(['a','b','c','d'])"
     ],
     "language": "python",
     "outputs": [
      {
       "output_type": "pyout",
       "prompt_number": 68,
       "text": [
        "'True'"
       ]
      }
     ],
     "prompt_number": 68
    },
    {
     "cell_type": "code",
     "collapsed": false,
     "input": [
      "is_sorted(['b','a'])"
     ],
     "language": "python",
     "outputs": [
      {
       "output_type": "pyout",
       "prompt_number": 69,
       "text": [
        "'False'"
       ]
      }
     ],
     "prompt_number": 69
    },
    {
     "cell_type": "code",
     "collapsed": true,
     "input": [
      "# Exercise 10.4"
     ],
     "language": "python",
     "outputs": [],
     "prompt_number": 1
    },
    {
     "cell_type": "code",
     "collapsed": false,
     "input": [
      "def is_anagram(word1,word2):",
      "    i=0",
      "    j=0",
      "    if len(word1)==len(word2):",
      "        for i in range(len(word1)):",
      "            for j in range(len(word2)-1):",
      "                if word1[i]==word2[j]:",
      "                    print 'True'",
      "                    break",
      "                else:",
      "                    j=j+1",
      "                print j",
      "            i=i+1",
      "            j=0",
      "            print j",
      "        print 'anagram'",
      "    else:",
      "        print 'False'",
      "            "
     ],
     "language": "python",
     "outputs": [],
     "prompt_number": 132
    },
    {
     "cell_type": "code",
     "collapsed": false,
     "input": [
      "def is_anagram(word1,word2):",
      "    i=0",
      "    j=0",
      "    t=0",
      "    if len(word1)==len(word2):",
      "        for i in range(len(word1)):",
      "            for j in range(len(word2)):",
      "                if word1[i]==word2[j]:",
      "                    t=t+1",
      "                    j=j+1",
      "                else:",
      "                    j=j+1",
      "                    if i>len(word1) and j>len(word2):",
      "                       return 'Not an anagram'",
      "                    else:",
      "                        \"\"\"print 'True'\"\"\"",
      "            i=i+1",
      "    else:",
      "        return 'Not an anagram'",
      "    if t==len(word1):",
      "        return 'It is an anagram!'",
      "    else:",
      "        return 'Not an anagram'",
      "            ",
      "            ",
      "            ",
      "            "
     ],
     "language": "python",
     "outputs": [],
     "prompt_number": 204
    },
    {
     "cell_type": "code",
     "collapsed": false,
     "input": [
      "is_anagram('stop','stop')"
     ],
     "language": "python",
     "outputs": [
      {
       "output_type": "pyout",
       "prompt_number": 227,
       "text": [
        "'It is an anagram!'"
       ]
      }
     ],
     "prompt_number": 227
    },
    {
     "cell_type": "code",
     "collapsed": false,
     "input": [
      "is_anagram('red','rde')"
     ],
     "language": "python",
     "outputs": [
      {
       "output_type": "pyout",
       "prompt_number": 228,
       "text": [
        "'It is an anagram!'"
       ]
      }
     ],
     "prompt_number": 228
    },
    {
     "cell_type": "code",
     "collapsed": true,
     "input": [],
     "language": "python",
     "outputs": []
    }
   ]
  }
 ]
}